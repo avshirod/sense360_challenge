{
 "cells": [
  {
   "cell_type": "markdown",
   "metadata": {},
   "source": [
    "### Sense360 Coding Challenge\n",
    "Submitted by: Aditya Shirode (avshirod@ncsu.edu)  \n",
    "Created on: 03/11/2018"
   ]
  },
  {
   "cell_type": "code",
   "execution_count": 1,
   "metadata": {},
   "outputs": [],
   "source": [
    "import time\n",
    "import random\n",
    "import logging\n",
    "import datetime\n",
    "\n",
    "import pandas as pd"
   ]
  },
  {
   "cell_type": "code",
   "execution_count": 18,
   "metadata": {},
   "outputs": [],
   "source": [
    "DATEFORMAT = \"%m/%d/%Y %H:%M:%S\""
   ]
  },
  {
   "cell_type": "code",
   "execution_count": 2,
   "metadata": {},
   "outputs": [],
   "source": [
    "def generate_visit_id():\n",
    "    \"\"\" A generator to generate visit id \"\"\"\n",
    "    start_id = 0\n",
    "    while True:\n",
    "        start_id += 1\n",
    "        yield start_id"
   ]
  },
  {
   "cell_type": "code",
   "execution_count": 3,
   "metadata": {},
   "outputs": [],
   "source": [
    "new_visit_id = generate_visit_id()"
   ]
  },
  {
   "cell_type": "code",
   "execution_count": 22,
   "metadata": {},
   "outputs": [],
   "source": [
    "class Visit:\n",
    "    \"\"\"\n",
    "    A \"visit\" is any place a user travels to\n",
    "    \n",
    "    latitude: float (e.g. 45.12345)\n",
    "    longitude: float (e.g. -118.12345)\n",
    "    arrival_time_local: datetime (e.g. 5/30/2015 10:12:35)\n",
    "    departure_time_local: datetime (e.g. 5/30/2015 18:12:35)\n",
    "    \"\"\"\n",
    "    def __init__(self, lat, lon, arrival_time, departure_time):\n",
    "        self.id = next(new_visit_id)\n",
    "        self.lat = lat\n",
    "        self.lon = lon\n",
    "        self.arrival_time = self.parse_time(arrival_time)\n",
    "        self.departure_time = self.parse_time(departure_time)\n",
    "        self.time_spent = self.departure_time - self.arrival_time\n",
    "    \n",
    "    def parse_time(self, t):\n",
    "        if type(t) is datetime.datetime:\n",
    "            return t\n",
    "        else:\n",
    "            try:\n",
    "                return datetime.datetime.strptime(t, DATEFORMAT)\n",
    "            except ValueError:\n",
    "                # Try other possible formats, generic parsing, etc.\n",
    "                return None\n",
    "    \n",
    "    def get_time_spent(self):\n",
    "        return self.time_spent.seconds/3600\n",
    "    \n",
    "    def is_visit_within_valid_period(self):\n",
    "        \"\"\" Check if given visit overlaps with a time period between 8pm and 8am \"\"\"\n",
    "        date_visit_start = self.arrival_time.date()\n",
    "        valid_period_start = datetime.datetime.combine(date_visit_start, datetime.time(8))\n",
    "        valid_period_end = valid_period_start + datetime.timedelta(hours=12)\n",
    "        return not (valid_period_start <= self.arrival_time < self.departure_time <= valid_period_end)\n",
    "        \n",
    "    def __repr__(self):\n",
    "        return \"Was at ({lat}, {lon}) between [{start} -- {end}]\".format(\n",
    "            lat=self.lat, lon=self.lon, start=self.arrival_time, end=self.departure_time\n",
    "        )"
   ]
  },
  {
   "cell_type": "code",
   "execution_count": 5,
   "metadata": {},
   "outputs": [],
   "source": [
    "possible_coordinates = (\n",
    "    (45.12345, -118.12345),\n",
    "    (40.12345, -110.12345),\n",
    "    (40.12345, 110.12345),\n",
    "    (45.12345, 118.12345),\n",
    ")"
   ]
  },
  {
   "cell_type": "code",
   "execution_count": 6,
   "metadata": {},
   "outputs": [],
   "source": [
    "def random_date(start, end):\n",
    "    \"\"\"\n",
    "    This function will return a random datetime between two dates\n",
    "    \"\"\"\n",
    "    if type(start) != datetime.datetime:\n",
    "        start = datetime.datetime.strptime(start, DATEFORMAT)\n",
    "    if type(end) != datetime.datetime:\n",
    "        end = datetime.datetime.strptime(end, DATEFORMAT)\n",
    "    delta = end - start\n",
    "    int_delta = (delta.days * 24 * 60 * 60) + delta.seconds  # Find out n_seconds between start and end\n",
    "    try:\n",
    "        random_second = random.randrange(int_delta)  # Pick a random second between those\n",
    "    except ValueError:\n",
    "        print(start, end, int_delta)\n",
    "    return start + datetime.timedelta(seconds=random_second)"
   ]
  },
  {
   "cell_type": "code",
   "execution_count": 7,
   "metadata": {},
   "outputs": [],
   "source": [
    "def generate_random_date():\n",
    "    \"\"\" Generate a random date for our data \"\"\"\n",
    "    period_start = \"1/1/2017 00:00:00\"\n",
    "    period_end = \"1/8/2017 11:59:59\"\n",
    "    while True:\n",
    "        yield random_date(period_start, period_end)\n",
    "\n",
    "get_random_date = generate_random_date()"
   ]
  },
  {
   "cell_type": "code",
   "execution_count": 8,
   "metadata": {},
   "outputs": [],
   "source": [
    "def generate_random_visit():\n",
    "    lat, lon = random.choice(possible_coordinates)\n",
    "    start, end = next(get_random_date), next(get_random_date)\n",
    "    while start > end:\n",
    "        start, end = next(get_random_date), next(get_random_date)\n",
    "    return Visit(lat, lon, start, end)\n",
    "\n",
    "def generate_random_visit_between(start_period, end_period):\n",
    "    lat, lon = random.choice(possible_coordinates)\n",
    "    start_visit, end_visit = random_date(start_period, end_period), random_date(start_period, end_period)\n",
    "    while start_visit >= end_visit:\n",
    "        start_visit, end_visit = random_date(start_period, end_period), random_date(start_period, end_period)\n",
    "    return Visit(lat, lon, start_visit, end_visit)"
   ]
  },
  {
   "cell_type": "code",
   "execution_count": 9,
   "metadata": {},
   "outputs": [],
   "source": [
    "def generate_consecutive_random_visits(start, end, n_visits=10):\n",
    "    visits = []\n",
    "    DATEFORMAT = \"%m/%d/%Y %H:%M:%S\"\n",
    "    if type(start) != datetime.datetime:\n",
    "        start = datetime.datetime.strptime(start, DATEFORMAT)\n",
    "    if type(end) != datetime.datetime:\n",
    "        end = datetime.datetime.strptime(end, DATEFORMAT)\n",
    "    delta = end - start\n",
    "    delta_period = delta.total_seconds() / n_visits\n",
    "    end = start + datetime.timedelta(seconds=delta_period)\n",
    "    for i in range(n_visits):\n",
    "        visits.append(generate_random_visit_between(start, end))\n",
    "        start = visits[-1].departure_time\n",
    "        end = end + datetime.timedelta(seconds=delta_period)\n",
    "    return visits"
   ]
  },
  {
   "cell_type": "code",
   "execution_count": 10,
   "metadata": {},
   "outputs": [],
   "source": [
    "start = \"1/1/2017 00:00:00\"\n",
    "end = \"1/15/2017 00:00:00\"\n",
    "# random_visits = [generate_random_visit() for _ in range(10)]\n",
    "random_visits = generate_consecutive_random_visits(start, end)"
   ]
  },
  {
   "cell_type": "markdown",
   "metadata": {},
   "source": [
    "Assumptions for identifying home:  \n",
    "- all visit windows are non-overlapping\n",
    "- all values in the fields are valid and well-formed\n",
    "\n",
    "Based on these, to identify possible home location, we will -  \n",
    "1. Sort values based on arrival time at a location\n",
    "2. Identify locations visited between 8pm and 8am and count number of minutes spent there\n",
    "3. Filter this list for values greater than 30 hours, sort and return top answer if exists"
   ]
  },
  {
   "cell_type": "code",
   "execution_count": 11,
   "metadata": {},
   "outputs": [],
   "source": [
    "def identify_home(visits):\n",
    "    \"\"\" Takes in a list of \"visits\" and returns the possible home location\n",
    "    :type visits: list of Visit objects\n",
    "    :rtype: (lat, lon) for predicted home location\n",
    "    \"\"\"\n",
    "    # Get visits within our period in question (8pm -- 8am)\n",
    "    valid_visits = [vars(v) for v in visits if v.is_visit_within_valid_period()]\n",
    "    \n",
    "    # Convert to a dataframe for easy calculations\n",
    "    df = pd.DataFrame(valid_visits)\n",
    "    \n",
    "    # Calculate the time spent for visit in seconds\n",
    "    df['time_spent_seconds'] = df['time_spent'].apply(lambda d: d.total_seconds())\n",
    "    \n",
    "    # Consider precise location co-ordinates up to 3 decimal points\n",
    "    df[['lat', 'lon']] = df[['lat', 'lon']].applymap(lambda x: '{:.3f}'.format(x))\n",
    "    \n",
    "    # Group visits by location and calculate total time spent\n",
    "    time_spent_by_location = df.groupby(['lat', 'lon'])[['time_spent_seconds']].sum()\n",
    "    \n",
    "    # The threshold is set to 30 hours; visits by location above this threshold should be considered\n",
    "    time_spent_threshold = 30 * 60 * 60  # seconds\n",
    "    \n",
    "    # Get locations that cross the threshold\n",
    "    possible_locations = time_spent_by_location[time_spent_by_location['time_spent_seconds'] > time_spent_threshold]\n",
    "        \n",
    "    # If no location with more than 30 hours spent during the requisite period, return -1\n",
    "    if possible_locations.empty:\n",
    "        logging.info(\"No possible home location found\")\n",
    "        return (-1, -1)\n",
    "    \n",
    "    # Get the location most time was spent at\n",
    "    possible_home_location = possible_locations.nlargest(1, 'time_spent_seconds')\n",
    "    \n",
    "    return possible_home_location.index.tolist()[0]"
   ]
  },
  {
   "cell_type": "code",
   "execution_count": 12,
   "metadata": {},
   "outputs": [],
   "source": [
    "start = \"1/1/2017 00:00:00\"\n",
    "end = \"12/31/2017 11:59:59\"\n",
    "random_visits = generate_consecutive_random_visits(start, end, 1000000)"
   ]
  },
  {
   "cell_type": "code",
   "execution_count": 13,
   "metadata": {},
   "outputs": [
    {
     "name": "stdout",
     "output_type": "stream",
     "text": [
      "Wall time: 10.2 s\n"
     ]
    },
    {
     "data": {
      "text/plain": [
       "(45.12345, -118.12345)"
      ]
     },
     "execution_count": 13,
     "metadata": {},
     "output_type": "execute_result"
    }
   ],
   "source": [
    "%time identify_home(random_visits)"
   ]
  },
  {
   "cell_type": "code",
   "execution_count": 14,
   "metadata": {},
   "outputs": [
    {
     "name": "stdout",
     "output_type": "stream",
     "text": [
      "8.98 s ± 127 ms per loop (mean ± std. dev. of 7 runs, 1 loop each)\n"
     ]
    }
   ],
   "source": [
    "%timeit identify_home(random_visits)"
   ]
  },
  {
   "cell_type": "code",
   "execution_count": 15,
   "metadata": {},
   "outputs": [],
   "source": [
    "# %prun identify_home(random_visits)"
   ]
  },
  {
   "cell_type": "markdown",
   "metadata": {},
   "source": [
    "---------------"
   ]
  },
  {
   "cell_type": "markdown",
   "metadata": {},
   "source": [
    "`identify_home()` is the main function for this assignment  \n",
    "\n",
    "It takes input of a list of 'Visit' class objects  \n",
    "e.g. A visit with following details:  \n",
    "- latitude: float (e.g. 45.12345)  \n",
    "- longitude: float (e.g. -118.12345)  \n",
    "- arrival_time_local: datetime (e.g. 5/30/2015 10:12:35)  \n",
    "- departure_time_local: datetime (e.g. 5/30/2015 18:12:35)  \n",
    "\n",
    "would be created as `Visit(lat=45.12345, lon=-118.12345, arrival_time=\"5/30/2015 10:12:35\", departure_time=\"5/30/2015 18:12:35\")`"
   ]
  },
  {
   "cell_type": "markdown",
   "metadata": {},
   "source": [
    "Assumptions for identifying home:  \n",
    "- all visit windows are non-overlapping\n",
    "- all values in the fields are valid and well-formed\n",
    "\n",
    "Based on these, to identify possible home location, we will -  \n",
    "1. Filter visits between 8pm and 8am\n",
    "2. Count number of minutes spent at locations\n",
    "3. Filter this list for values greater than 30 hours, sort and return top answer if exists (otherwise return `(-1, -1)`)"
   ]
  },
  {
   "cell_type": "markdown",
   "metadata": {},
   "source": [
    "This function was benchmarked against random, non-overlapping, consecutive visit data generated by `generate_consecutive_random_visits()` function above in the notebook  \n",
    "\n",
    "We generated about **1 million** records, randomly assigning 4 co-ordinates to them, and tried to identify the Home location  \n",
    "It took **~9 sec** for the function to return the answer over *10 runs*\n",
    "\n",
    "This function can be optimized to get better results as follows:\n",
    "- We can add additional columns for the visit data while creating the objects (parsing and saving the data in real life), such as is_within_valid_home_period that will ease our filtering time. Same thing with lat-lon precision.  \n",
    "- Given more time, the pandas operations can be vectorized to reduce the time."
   ]
  }
 ],
 "metadata": {
  "anaconda-cloud": {},
  "kernelspec": {
   "display_name": "Python [conda root]",
   "language": "python",
   "name": "conda-root-py"
  },
  "language_info": {
   "codemirror_mode": {
    "name": "ipython",
    "version": 3
   },
   "file_extension": ".py",
   "mimetype": "text/x-python",
   "name": "python",
   "nbconvert_exporter": "python",
   "pygments_lexer": "ipython3",
   "version": "3.5.5"
  }
 },
 "nbformat": 4,
 "nbformat_minor": 2
}
